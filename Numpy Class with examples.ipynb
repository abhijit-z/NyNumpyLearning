{
 "cells": [
  {
   "cell_type": "markdown",
   "metadata": {},
   "source": [
    "# Numpy Class"
   ]
  },
  {
   "cell_type": "code",
   "execution_count": 1,
   "metadata": {},
   "outputs": [],
   "source": [
    "import numpy as np"
   ]
  },
  {
   "cell_type": "markdown",
   "metadata": {},
   "source": [
    "# Creating Arrays"
   ]
  },
  {
   "cell_type": "code",
   "execution_count": 12,
   "metadata": {},
   "outputs": [
    {
     "name": "stdout",
     "output_type": "stream",
     "text": [
      "<class 'numpy.ndarray'>\n",
      "[1 2 3]\n"
     ]
    }
   ],
   "source": [
    "a = np.array([1, 2, 3])   # Create a rank 1 array\n",
    "print(type(a)) \n",
    "print(a)"
   ]
  },
  {
   "cell_type": "code",
   "execution_count": 5,
   "metadata": {},
   "outputs": [
    {
     "data": {
      "text/plain": [
       "array([[1., 2., 4.],\n",
       "       [5., 8., 7.]])"
      ]
     },
     "execution_count": 5,
     "metadata": {},
     "output_type": "execute_result"
    }
   ],
   "source": [
    "# Creating array from list with type float\n",
    "b = np.array([[1, 2, 4], \n",
    "              [5, 8, 7]], \n",
    "             dtype = 'float')\n",
    "b"
   ]
  },
  {
   "cell_type": "code",
   "execution_count": 13,
   "metadata": {
    "scrolled": true
   },
   "outputs": [
    {
     "name": "stdout",
     "output_type": "stream",
     "text": [
      "(3,)\n",
      "1 2 3\n"
     ]
    }
   ],
   "source": [
    "print(a.shape)            # Prints \"(3,)\"\n",
    "print(a[0], a[1], a[2])   "
   ]
  },
  {
   "cell_type": "code",
   "execution_count": 8,
   "metadata": {
    "scrolled": true
   },
   "outputs": [
    {
     "name": "stdout",
     "output_type": "stream",
     "text": [
      "(2, 3)\n"
     ]
    }
   ],
   "source": [
    "print(b.shape)"
   ]
  },
  {
   "cell_type": "code",
   "execution_count": 15,
   "metadata": {
    "scrolled": false
   },
   "outputs": [
    {
     "name": "stdout",
     "output_type": "stream",
     "text": [
      "[5 2 3]\n"
     ]
    }
   ],
   "source": [
    "a[0] = 5                  # Change an element of the array\n",
    "print(a)                 "
   ]
  },
  {
   "cell_type": "code",
   "execution_count": 16,
   "metadata": {
    "scrolled": true
   },
   "outputs": [
    {
     "name": "stdout",
     "output_type": "stream",
     "text": [
      "[[0. 0.]\n",
      " [0. 0.]]\n"
     ]
    }
   ],
   "source": [
    "a = np.zeros((2,2))   # Create an array of all zeros\n",
    "print(a)              "
   ]
  },
  {
   "cell_type": "code",
   "execution_count": 17,
   "metadata": {},
   "outputs": [
    {
     "name": "stdout",
     "output_type": "stream",
     "text": [
      "[[1. 1.]]\n"
     ]
    }
   ],
   "source": [
    "b = np.ones((1,2))    # Create an array of all ones\n",
    "print(b)              "
   ]
  },
  {
   "cell_type": "code",
   "execution_count": 19,
   "metadata": {},
   "outputs": [
    {
     "name": "stdout",
     "output_type": "stream",
     "text": [
      "[[7 7]\n",
      " [7 7]]\n"
     ]
    }
   ],
   "source": [
    "c = np.full((2,2), 7)  # Create a constant array\n",
    "print(c)               "
   ]
  },
  {
   "cell_type": "code",
   "execution_count": 21,
   "metadata": {
    "scrolled": true
   },
   "outputs": [
    {
     "name": "stdout",
     "output_type": "stream",
     "text": [
      "[[1. 0. 0.]\n",
      " [0. 1. 0.]\n",
      " [0. 0. 1.]]\n"
     ]
    }
   ],
   "source": [
    "d = np.eye(3)         # Create a 2x2 identity matrix\n",
    "print(d)             "
   ]
  },
  {
   "cell_type": "code",
   "execution_count": 22,
   "metadata": {
    "scrolled": true
   },
   "outputs": [
    {
     "name": "stdout",
     "output_type": "stream",
     "text": [
      "[[0.28607314 0.6079275 ]\n",
      " [0.21769247 0.55119816]]\n"
     ]
    }
   ],
   "source": [
    "e = np.random.random((2,2))  # Create an array filled with random values\n",
    "print(e)                    "
   ]
  },
  {
   "cell_type": "markdown",
   "metadata": {},
   "source": [
    "# Indexing"
   ]
  },
  {
   "cell_type": "code",
   "execution_count": 23,
   "metadata": {},
   "outputs": [
    {
     "data": {
      "text/plain": [
       "array([[ 1,  2,  3,  4],\n",
       "       [ 5,  6,  7,  8],\n",
       "       [ 9, 10, 11, 12]])"
      ]
     },
     "execution_count": 23,
     "metadata": {},
     "output_type": "execute_result"
    }
   ],
   "source": [
    "a = np.array([[1,2,3,4], [5,6,7,8], [9,10,11,12]])\n",
    "a"
   ]
  },
  {
   "cell_type": "code",
   "execution_count": 24,
   "metadata": {
    "scrolled": true
   },
   "outputs": [
    {
     "data": {
      "text/plain": [
       "array([[2, 3],\n",
       "       [6, 7]])"
      ]
     },
     "execution_count": 24,
     "metadata": {},
     "output_type": "execute_result"
    }
   ],
   "source": [
    "# Use slicing to pull out the subarray consisting of the first 2 rows and columns 1 and 2\n",
    "b = a[:2, 1:3]\n",
    "b"
   ]
  },
  {
   "cell_type": "code",
   "execution_count": 25,
   "metadata": {
    "scrolled": true
   },
   "outputs": [
    {
     "name": "stdout",
     "output_type": "stream",
     "text": [
      "2\n",
      "77\n"
     ]
    },
    {
     "data": {
      "text/plain": [
       "array([[77,  3],\n",
       "       [ 6,  7]])"
      ]
     },
     "execution_count": 25,
     "metadata": {},
     "output_type": "execute_result"
    }
   ],
   "source": [
    "# A slice of an array is a view into the same data, so modifying it will modify the original array.\n",
    "print(a[0, 1])   \n",
    "\n",
    "b[0, 0] = 77     \n",
    "print(a[0, 1]) \n",
    "b"
   ]
  },
  {
   "cell_type": "code",
   "execution_count": 26,
   "metadata": {
    "scrolled": true
   },
   "outputs": [
    {
     "name": "stdout",
     "output_type": "stream",
     "text": [
      "[4 5 6] (3,)\n",
      "[[4 5 6]] (1, 3)\n"
     ]
    }
   ],
   "source": [
    "a = np.array([[1,2,3], \n",
    "              [4,5,6], \n",
    "              [7,8,9]])\n",
    "\n",
    "# Two ways of accessing the data\n",
    "row_r1 = a[1, :]    # Rank 1 view of the second row of a\n",
    "row_r2 = a[1:2, :]  # Rank 2 view of the second row of a\n",
    "print(row_r1, row_r1.shape)  \n",
    "print(row_r2, row_r2.shape)  "
   ]
  },
  {
   "cell_type": "code",
   "execution_count": 27,
   "metadata": {
    "scrolled": false
   },
   "outputs": [
    {
     "name": "stdout",
     "output_type": "stream",
     "text": [
      "[2 5 8] (3,)\n",
      "[[2]\n",
      " [5]\n",
      " [8]] (3, 1)\n"
     ]
    }
   ],
   "source": [
    "# Same when accessing columns of an array:\n",
    "col_r1 = a[:, 1]\n",
    "col_r2 = a[:, 1:2]\n",
    "print(col_r1, col_r1.shape)  \n",
    "print(col_r2, col_r2.shape) "
   ]
  },
  {
   "cell_type": "code",
   "execution_count": 28,
   "metadata": {
    "scrolled": true
   },
   "outputs": [
    {
     "data": {
      "text/plain": [
       "array([[1, 2],\n",
       "       [3, 4],\n",
       "       [5, 6]])"
      ]
     },
     "execution_count": 28,
     "metadata": {},
     "output_type": "execute_result"
    }
   ],
   "source": [
    "a = np.array([[1,2], [3, 4], [5, 6]])\n",
    "a"
   ]
  },
  {
   "cell_type": "code",
   "execution_count": 29,
   "metadata": {
    "scrolled": true
   },
   "outputs": [
    {
     "data": {
      "text/plain": [
       "array([[1, 2],\n",
       "       [3, 4],\n",
       "       [5, 6]])"
      ]
     },
     "execution_count": 29,
     "metadata": {},
     "output_type": "execute_result"
    }
   ],
   "source": [
    "x = np.arange(1,7)  #arange(start,stop,step)\n",
    "x.shape = (3,2)\n",
    "x"
   ]
  },
  {
   "cell_type": "markdown",
   "metadata": {},
   "source": [
    "# Integer Array indexing"
   ]
  },
  {
   "cell_type": "code",
   "execution_count": 30,
   "metadata": {},
   "outputs": [
    {
     "name": "stdout",
     "output_type": "stream",
     "text": [
      "[[1 2]\n",
      " [3 4]\n",
      " [5 6]]\n"
     ]
    }
   ],
   "source": [
    "print(a)"
   ]
  },
  {
   "cell_type": "code",
   "execution_count": 31,
   "metadata": {
    "scrolled": true
   },
   "outputs": [
    {
     "name": "stdout",
     "output_type": "stream",
     "text": [
      "[1 4 5]\n",
      "[1 4 5]\n"
     ]
    }
   ],
   "source": [
    "print(a[[0, 1, 2], [0, 1, 0]])\n",
    "\n",
    "print(np.array([a[0, 0], a[1, 1], a[2, 0]]))"
   ]
  },
  {
   "cell_type": "code",
   "execution_count": 32,
   "metadata": {},
   "outputs": [],
   "source": [
    "#One useful trick with integer array indexing is selecting or mutating one element from each row of a matrix:"
   ]
  },
  {
   "cell_type": "code",
   "execution_count": 33,
   "metadata": {
    "scrolled": true
   },
   "outputs": [
    {
     "data": {
      "text/plain": [
       "array([[ 1,  2,  3],\n",
       "       [ 4,  5,  6],\n",
       "       [ 7,  8,  9],\n",
       "       [10, 11, 12]])"
      ]
     },
     "execution_count": 33,
     "metadata": {},
     "output_type": "execute_result"
    }
   ],
   "source": [
    "# Create a new array from which we will select elements\n",
    "a = np.array([[1,2,3], \n",
    "              [4,5,6], \n",
    "              [7,8,9], \n",
    "              [10, 11, 12]])\n",
    "a"
   ]
  },
  {
   "cell_type": "code",
   "execution_count": 36,
   "metadata": {
    "scrolled": true
   },
   "outputs": [
    {
     "name": "stdout",
     "output_type": "stream",
     "text": [
      "[ 1  6  7 11]\n",
      "[[11  2  3]\n",
      " [ 4  5 16]\n",
      " [17  8  9]\n",
      " [10 21 12]]\n"
     ]
    }
   ],
   "source": [
    "# Create an array of indices\n",
    "b = np.array([0, 2, 0, 1])\n",
    "\n",
    "# Select one element from each row of a using the indices in b\n",
    "print(a[np.arange(4), b])  \n",
    "\n",
    "# Mutate one element from each row of a using the indices in b\n",
    "a[np.arange(4), b] += 10\n",
    "\n",
    "print(a)"
   ]
  },
  {
   "cell_type": "markdown",
   "metadata": {},
   "source": [
    "# Boolean array indexing"
   ]
  },
  {
   "cell_type": "code",
   "execution_count": 37,
   "metadata": {},
   "outputs": [
    {
     "name": "stdout",
     "output_type": "stream",
     "text": [
      "[[False False]\n",
      " [ True  True]\n",
      " [ True  True]]\n"
     ]
    }
   ],
   "source": [
    "a = np.array([[1,2], \n",
    "              [3, 4], \n",
    "              [5, 6]])\n",
    "\n",
    "bool_idx = (a > 2)   # Find the elements of a that are bigger than 2;\n",
    "                     \n",
    "print(bool_idx)    "
   ]
  },
  {
   "cell_type": "code",
   "execution_count": 38,
   "metadata": {},
   "outputs": [
    {
     "name": "stdout",
     "output_type": "stream",
     "text": [
      "[3 4 5 6]\n"
     ]
    }
   ],
   "source": [
    "# We use boolean array indexing to construct a rank 1 array\n",
    "print(a[bool_idx])  "
   ]
  },
  {
   "cell_type": "code",
   "execution_count": 39,
   "metadata": {},
   "outputs": [
    {
     "name": "stdout",
     "output_type": "stream",
     "text": [
      "[3 4 5 6]\n"
     ]
    }
   ],
   "source": [
    "# We can do all of the above in a single concise statement:\n",
    "print(a[a > 2])"
   ]
  },
  {
   "cell_type": "markdown",
   "metadata": {},
   "source": [
    "# Basic Operations"
   ]
  },
  {
   "cell_type": "code",
   "execution_count": 40,
   "metadata": {},
   "outputs": [],
   "source": [
    "a = np.array([1, 2, 5, 3])"
   ]
  },
  {
   "cell_type": "code",
   "execution_count": 41,
   "metadata": {
    "scrolled": false
   },
   "outputs": [
    {
     "name": "stdout",
     "output_type": "stream",
     "text": [
      "[2 3 6 4]\n",
      "\n",
      "[-2 -1  2  0]\n",
      "\n",
      "[10 20 50 30]\n",
      "\n",
      "[ 1  4 25  9]\n",
      "\n",
      "[ 2  4 10  6]\n",
      "\n",
      "[[1 3 9]\n",
      " [2 4 6]\n",
      " [3 5 0]]\n"
     ]
    }
   ],
   "source": [
    "# add 1 to every element\n",
    "print (a+1)\n",
    "print()\n",
    " \n",
    "# subtract 3 from each element\n",
    "print (a-3)\n",
    "print()\n",
    " \n",
    "# multiply each element by 10\n",
    "print (a*10)\n",
    "print()\n",
    " \n",
    "# square each element\n",
    "print (a**2)\n",
    "print()\n",
    " \n",
    "# modify existing array\n",
    "a *= 2\n",
    "print (a)\n",
    "print()\n",
    " \n",
    "# transpose of array\n",
    "a = np.array([[1, 2, 3], [3, 4, 5], [9, 6, 0]])\n",
    "print(a.T)"
   ]
  },
  {
   "cell_type": "code",
   "execution_count": 42,
   "metadata": {
    "scrolled": true
   },
   "outputs": [
    {
     "name": "stdout",
     "output_type": "stream",
     "text": [
      "9\n",
      "[6 7 9]\n",
      "[1 1 2]\n",
      "38\n",
      "[[ 1  6 12]\n",
      " [ 4 11 13]\n",
      " [ 3  4 13]]\n"
     ]
    }
   ],
   "source": [
    "arr = np.array([[1, 5, 6],\n",
    "                [4, 7, 2],\n",
    "                [3, 1, 9]])\n",
    " \n",
    "# maximum element of array\n",
    "print (arr.max())\n",
    "print (arr.max(axis = 1))       #Row-wise maximum\n",
    " \n",
    "# minimum element of array\n",
    "print (arr.min(axis = 0))       #Column-wise minimum\n",
    " \n",
    "# sum of array elements\n",
    "print (arr.sum())              \n",
    " \n",
    "# cumulative sum along each row\n",
    "print (arr.cumsum(axis = 1))"
   ]
  },
  {
   "cell_type": "code",
   "execution_count": 43,
   "metadata": {},
   "outputs": [],
   "source": [
    "# Binary operators: These operations apply on array elementwise and a new array is created. \n",
    "# You can use all basic arithmetic operators like +, -, /, , etc. \n",
    "# In case of +=, -=, *= operators, the exsisting array is modified."
   ]
  },
  {
   "cell_type": "code",
   "execution_count": 44,
   "metadata": {
    "scrolled": true
   },
   "outputs": [
    {
     "name": "stdout",
     "output_type": "stream",
     "text": [
      "Array sum:\n",
      " [[5 5]\n",
      " [5 5]] \n",
      "\n",
      "Array multiplication:\n",
      " [[4 6]\n",
      " [6 4]] \n",
      "\n",
      "Matrix multiplication:\n",
      " [[ 8  5]\n",
      " [20 13]]\n"
     ]
    }
   ],
   "source": [
    "a = np.array([[1, 2],\n",
    "            [3, 4]])\n",
    "b = np.array([[4, 3],\n",
    "            [2, 1]])\n",
    " \n",
    "# add arrays\n",
    "print (\"Array sum:\\n\", a + b, \"\\n\")\n",
    " \n",
    "# multiply arrays (elementwise multiplication)\n",
    "print (\"Array multiplication:\\n\", a*b, \"\\n\")\n",
    " \n",
    "# matrix multiplication\n",
    "print (\"Matrix multiplication:\\n\", a.dot(b))"
   ]
  },
  {
   "cell_type": "code",
   "execution_count": 46,
   "metadata": {},
   "outputs": [],
   "source": [
    "# Universal functions (ufunc): NumPy provides familiar mathematical functions such as sin, cos, exp, etc. \n",
    "# These functions also operate elementwise on an array, producing an array as output.\n",
    "# Note: All the operations we did above using overloaded operators can be done using ufuncs like:\n",
    "# np.add, np.subtract, np.multiply, np.divide, np.sum, etc."
   ]
  },
  {
   "cell_type": "code",
   "execution_count": 45,
   "metadata": {
    "scrolled": true
   },
   "outputs": [
    {
     "name": "stdout",
     "output_type": "stream",
     "text": [
      "Sine values: [0.0000000e+00 1.0000000e+00 1.2246468e-16] \n",
      "\n",
      "Exponent: [ 1.          2.71828183  7.3890561  20.08553692] \n",
      "\n",
      "Square root: [0.         1.         1.41421356 1.73205081]\n"
     ]
    }
   ],
   "source": [
    "# create an array of sine values\n",
    "a = np.array([0, np.pi/2, np.pi])\n",
    "print (\"Sine values:\", np.sin(a), \"\\n\")\n",
    " \n",
    "# exponential values\n",
    "b = np.array([0, 1, 2, 3])\n",
    "print (\"Exponent:\", np.exp(b), \"\\n\")\n",
    " \n",
    "# square root of array values\n",
    "print (\"Square root:\", np.sqrt(b))"
   ]
  }
 ],
 "metadata": {
  "kernelspec": {
   "display_name": "Python 3",
   "language": "python",
   "name": "python3"
  },
  "language_info": {
   "codemirror_mode": {
    "name": "ipython",
    "version": 3
   },
   "file_extension": ".py",
   "mimetype": "text/x-python",
   "name": "python",
   "nbconvert_exporter": "python",
   "pygments_lexer": "ipython3",
   "version": "3.7.6"
  }
 },
 "nbformat": 4,
 "nbformat_minor": 2
}
